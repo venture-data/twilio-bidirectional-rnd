{
 "cells": [
  {
   "cell_type": "code",
   "execution_count": 5,
   "metadata": {},
   "outputs": [],
   "source": [
    "import assemblyai as aai\n",
    "import os\n",
    "from dotenv import load_dotenv"
   ]
  },
  {
   "cell_type": "code",
   "execution_count": 6,
   "metadata": {},
   "outputs": [
    {
     "data": {
      "text/plain": [
       "True"
      ]
     },
     "execution_count": 6,
     "metadata": {},
     "output_type": "execute_result"
    }
   ],
   "source": [
    "load_dotenv()"
   ]
  },
  {
   "cell_type": "code",
   "execution_count": 7,
   "metadata": {},
   "outputs": [],
   "source": [
    "aai.settings.api_key = os.getenv('ASSEMBLYAI_API_KEY')\n",
    "\n",
    "\n",
    "def on_open(session_opened: aai.RealtimeSessionOpened):\n",
    "    print(\"Session ID:\", session_opened.session_id)\n",
    "\n",
    "\n",
    "def on_data(transcript: aai.RealtimeTranscript):\n",
    "    if not transcript.text:\n",
    "        return\n",
    "\n",
    "    if isinstance(transcript, aai.RealtimeFinalTranscript):\n",
    "        print(transcript.text, end=\"\\r\\n\")\n",
    "    else:\n",
    "        print(transcript.text, end=\"\\r\")\n",
    "\n",
    "\n",
    "def on_error(error: aai.RealtimeError):\n",
    "    print(\"An error occured:\", error)\n",
    "\n",
    "\n",
    "def on_close():\n",
    "    print(\"Closing Session\")\n",
    "\n",
    "\n",
    "transcriber = aai.RealtimeTranscriber(\n",
    "    sample_rate=16_000,\n",
    "    on_data=on_data,\n",
    "    on_error=on_error,\n",
    "    on_open=on_open,\n",
    "    on_close=on_close,\n",
    "    # encoding=aai.AudioEncoding.pcm_mulaw\n",
    ")"
   ]
  },
  {
   "cell_type": "code",
   "execution_count": 8,
   "metadata": {},
   "outputs": [
    {
     "name": "stdout",
     "output_type": "stream",
     "text": [
      "Session ID: e9be07af-7d6f-42a3-87b5-78d188e62540\n"
     ]
    }
   ],
   "source": [
    "transcriber.connect()\n",
    "\n",
    "microphone_stream = aai.extras.MicrophoneStream(sample_rate=16_000)\n",
    "transcriber.stream(microphone_stream)"
   ]
  }
 ],
 "metadata": {
  "kernelspec": {
   "display_name": "twilio-twoway",
   "language": "python",
   "name": "python3"
  },
  "language_info": {
   "codemirror_mode": {
    "name": "ipython",
    "version": 3
   },
   "file_extension": ".py",
   "mimetype": "text/x-python",
   "name": "python",
   "nbconvert_exporter": "python",
   "pygments_lexer": "ipython3",
   "version": "3.12.7"
  }
 },
 "nbformat": 4,
 "nbformat_minor": 2
}
